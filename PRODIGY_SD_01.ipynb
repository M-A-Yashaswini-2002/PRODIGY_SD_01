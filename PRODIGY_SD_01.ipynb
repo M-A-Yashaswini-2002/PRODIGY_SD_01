{
  "nbformat": 4,
  "nbformat_minor": 0,
  "metadata": {
    "colab": {
      "provenance": [],
      "authorship_tag": "ABX9TyOAZZ8aXGT/K+D8Z2TTWtlh",
      "include_colab_link": true
    },
    "kernelspec": {
      "name": "python3",
      "display_name": "Python 3"
    },
    "language_info": {
      "name": "python"
    }
  },
  "cells": [
    {
      "cell_type": "markdown",
      "metadata": {
        "id": "view-in-github",
        "colab_type": "text"
      },
      "source": [
        "<a href=\"https://colab.research.google.com/github/M-A-Yashaswini-2002/PRODIGY_SD_01/blob/main/PRODIGY_SD_01.ipynb\" target=\"_parent\"><img src=\"https://colab.research.google.com/assets/colab-badge.svg\" alt=\"Open In Colab\"/></a>"
      ]
    },
    {
      "cell_type": "code",
      "execution_count": 9,
      "metadata": {
        "colab": {
          "base_uri": "https://localhost:8080/"
        },
        "id": "G-WbhrpAiWG8",
        "outputId": "2dfe42a0-b772-4566-d78f-7cc35ec40f4f"
      },
      "outputs": [
        {
          "output_type": "stream",
          "name": "stdout",
          "text": [
            "Enter the temperature value: 27\n",
            "Enter the unit of the temperature (C, F, K): c\n",
            "27.0°C is 80.60°F and 300.15K\n"
          ]
        }
      ],
      "source": [
        "def celsius_to_fahrenheit(celsius):\n",
        "    return (celsius * 9/5) + 32\n",
        "\n",
        "def celsius_to_kelvin(celsius):\n",
        "    return celsius + 273.15\n",
        "\n",
        "def fahrenheit_to_celsius(fahrenheit):\n",
        "    return (fahrenheit - 32) * 5/9\n",
        "\n",
        "def fahrenheit_to_kelvin(fahrenheit):\n",
        "    return fahrenheit_to_celsius(fahrenheit) + 273.15\n",
        "\n",
        "def kelvin_to_celsius(kelvin):\n",
        "    return kelvin - 273.15\n",
        "\n",
        "def kelvin_to_fahrenheit(kelvin):\n",
        "    return celsius_to_fahrenheit(kelvin_to_celsius(kelvin))\n",
        "\n",
        "def convert_temperature(value, unit):\n",
        "    if unit.lower() == 'c':\n",
        "        fahrenheit = celsius_to_fahrenheit(value)\n",
        "        kelvin = celsius_to_kelvin(value)\n",
        "        return f\"{value}°C is {fahrenheit:.2f}°F and {kelvin:.2f}K\"\n",
        "    elif unit.lower() == 'f':\n",
        "        celsius = fahrenheit_to_celsius(value)\n",
        "        kelvin = fahrenheit_to_kelvin(value)\n",
        "        return f\"{value}°F is {celsius:.2f}°C and {kelvin:.2f}K\"\n",
        "    elif unit.lower() == 'k':\n",
        "        celsius = kelvin_to_celsius(value)\n",
        "        fahrenheit = kelvin_to_fahrenheit(value)\n",
        "        return f\"{value}K is {celsius:.2f}°C and {fahrenheit:.2f}°F\"\n",
        "    else:\n",
        "        return \"Invalid unit. Please enter 'C' for Celsius, 'F' for Fahrenheit, or 'K' for Kelvin.\"\n",
        "\n",
        "def main():\n",
        "    temp_value = float(input(\"Enter the temperature value: \"))\n",
        "    temp_unit = input(\"Enter the unit of the temperature (C, F, K): \")\n",
        "    result = convert_temperature(temp_value, temp_unit)\n",
        "    print(result)\n",
        "\n",
        "if __name__ == \"__main__\":\n",
        "    main()"
      ]
    },
    {
      "cell_type": "code",
      "source": [],
      "metadata": {
        "id": "9LMntm8rtmZF"
      },
      "execution_count": null,
      "outputs": []
    }
  ]
}